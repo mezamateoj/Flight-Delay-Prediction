{
 "cells": [
  {
   "cell_type": "code",
   "execution_count": 60,
   "metadata": {},
   "outputs": [],
   "source": [
    "import pandas as pd \n",
    "import numpy as np\n",
    "import matplotlib.pyplot as plt\n",
    "import seaborn as sns\n",
    "import datetime as dt\n",
    "\n",
    "from sklearn.model_selection import train_test_split\n",
    "from sklearn.metrics import accuracy_score, classification_report, confusion_matrix, roc_auc_score\n",
    "from sklearn.linear_model import LogisticRegression\n",
    "from sklearn.ensemble import RandomForestClassifier\n",
    "from sklearn.tree import DecisionTreeClassifier\n",
    "from sklearn.model_selection import GridSearchCV\n",
    "from sklearn.preprocessing import StandardScaler, OneHotEncoder\n",
    "from sklearn.compose import ColumnTransformer\n",
    "from sklearn.pipeline import Pipeline\n",
    "from sklearn.preprocessing import MinMaxScaler\n",
    "from sklearn.metrics import classification_report\n",
    "from sklearn.metrics import roc_curve\n",
    "from sklearn.metrics import roc_auc_score\n",
    "\n",
    "from xgboost import XGBClassifier\n",
    "import joblib\n",
    "\n",
    "pd.set_option('display.max_columns', None)\n",
    "import warnings\n",
    "warnings.filterwarnings('ignore')"
   ]
  },
  {
   "attachments": {},
   "cell_type": "markdown",
   "metadata": {},
   "source": [
    "## Load data"
   ]
  },
  {
   "cell_type": "code",
   "execution_count": 2,
   "metadata": {},
   "outputs": [
    {
     "name": "stdout",
     "output_type": "stream",
     "text": [
      "<class 'pandas.core.frame.DataFrame'>\n",
      "RangeIndex: 1167677 entries, 0 to 1167676\n",
      "Data columns (total 13 columns):\n",
      " #   Column             Non-Null Count    Dtype  \n",
      "---  ------             --------------    -----  \n",
      " 0   DAY_OF_MONTH       1167677 non-null  int32  \n",
      " 1   DAY_OF_WEEK        1167677 non-null  int32  \n",
      " 2   OP_CARRIER         1167677 non-null  object \n",
      " 3   OP_CARRIER_FL_NUM  1167677 non-null  int32  \n",
      " 4   ORIGIN_AIRPORT_ID  1167677 non-null  int32  \n",
      " 5   ORIGIN             1167677 non-null  object \n",
      " 6   DEST_AIRPORT_ID    1167677 non-null  int32  \n",
      " 7   DEST               1167677 non-null  object \n",
      " 8   DEP_TIME           1167677 non-null  float32\n",
      " 9   DEP_DEL15          1167677 non-null  int32  \n",
      " 10  DEP_TIME_BLK       1167677 non-null  object \n",
      " 11  DISTANCE           1167677 non-null  float32\n",
      " 12  Air Carrier Name   1167677 non-null  object \n",
      "dtypes: float32(2), int32(6), object(5)\n",
      "memory usage: 80.2+ MB\n"
     ]
    }
   ],
   "source": [
    "df = pd.read_parquet('../datasets/clean.parquet')\n",
    "df.info()"
   ]
  },
  {
   "cell_type": "code",
   "execution_count": 3,
   "metadata": {},
   "outputs": [],
   "source": [
    "df.rename(columns={'Air Carrier Name': 'CARRIER'}, inplace=True)"
   ]
  },
  {
   "cell_type": "code",
   "execution_count": 4,
   "metadata": {},
   "outputs": [],
   "source": [
    "# Frequency Encoding\n",
    "origin_encoding = df['ORIGIN'].value_counts(normalize=True)\n",
    "dest_encoding = df['DEST'].value_counts(normalize=True)\n",
    "\n",
    "df['origin_ap_enc'] = df['ORIGIN'].map(origin_encoding)\n",
    "df['dest_ap_enc'] = df['DEST'].map(dest_encoding)"
   ]
  },
  {
   "cell_type": "code",
   "execution_count": 5,
   "metadata": {},
   "outputs": [
    {
     "data": {
      "text/html": [
       "<div>\n",
       "<style scoped>\n",
       "    .dataframe tbody tr th:only-of-type {\n",
       "        vertical-align: middle;\n",
       "    }\n",
       "\n",
       "    .dataframe tbody tr th {\n",
       "        vertical-align: top;\n",
       "    }\n",
       "\n",
       "    .dataframe thead th {\n",
       "        text-align: right;\n",
       "    }\n",
       "</style>\n",
       "<table border=\"1\" class=\"dataframe\">\n",
       "  <thead>\n",
       "    <tr style=\"text-align: right;\">\n",
       "      <th></th>\n",
       "      <th>DAY_OF_MONTH</th>\n",
       "      <th>DAY_OF_WEEK</th>\n",
       "      <th>OP_CARRIER</th>\n",
       "      <th>OP_CARRIER_FL_NUM</th>\n",
       "      <th>ORIGIN_AIRPORT_ID</th>\n",
       "      <th>ORIGIN</th>\n",
       "      <th>DEST_AIRPORT_ID</th>\n",
       "      <th>DEST</th>\n",
       "      <th>DEP_TIME</th>\n",
       "      <th>DEP_DEL15</th>\n",
       "      <th>DEP_TIME_BLK</th>\n",
       "      <th>DISTANCE</th>\n",
       "      <th>CARRIER</th>\n",
       "      <th>origin_ap_enc</th>\n",
       "      <th>dest_ap_enc</th>\n",
       "    </tr>\n",
       "  </thead>\n",
       "  <tbody>\n",
       "    <tr>\n",
       "      <th>1044580</th>\n",
       "      <td>25</td>\n",
       "      <td>6</td>\n",
       "      <td>OO</td>\n",
       "      <td>5033</td>\n",
       "      <td>11471</td>\n",
       "      <td>EAU</td>\n",
       "      <td>13930</td>\n",
       "      <td>ORD</td>\n",
       "      <td>1155.0</td>\n",
       "      <td>0</td>\n",
       "      <td>1200-1259</td>\n",
       "      <td>269.0</td>\n",
       "      <td>Skywest Airlines</td>\n",
       "      <td>0.000094</td>\n",
       "      <td>0.041208</td>\n",
       "    </tr>\n",
       "    <tr>\n",
       "      <th>1127640</th>\n",
       "      <td>30</td>\n",
       "      <td>4</td>\n",
       "      <td>G4</td>\n",
       "      <td>602</td>\n",
       "      <td>14314</td>\n",
       "      <td>PVU</td>\n",
       "      <td>10466</td>\n",
       "      <td>AZA</td>\n",
       "      <td>1613.0</td>\n",
       "      <td>0</td>\n",
       "      <td>1600-1659</td>\n",
       "      <td>477.0</td>\n",
       "      <td>Allegiant Air LLC</td>\n",
       "      <td>0.000096</td>\n",
       "      <td>0.000804</td>\n",
       "    </tr>\n",
       "    <tr>\n",
       "      <th>435671</th>\n",
       "      <td>24</td>\n",
       "      <td>4</td>\n",
       "      <td>DL</td>\n",
       "      <td>2455</td>\n",
       "      <td>11884</td>\n",
       "      <td>GEG</td>\n",
       "      <td>13487</td>\n",
       "      <td>MSP</td>\n",
       "      <td>1405.0</td>\n",
       "      <td>0</td>\n",
       "      <td>1400-1459</td>\n",
       "      <td>1175.0</td>\n",
       "      <td>Delta Air Lines, Inc.</td>\n",
       "      <td>0.001732</td>\n",
       "      <td>0.020743</td>\n",
       "    </tr>\n",
       "    <tr>\n",
       "      <th>88888</th>\n",
       "      <td>5</td>\n",
       "      <td>6</td>\n",
       "      <td>UA</td>\n",
       "      <td>1837</td>\n",
       "      <td>11618</td>\n",
       "      <td>EWR</td>\n",
       "      <td>10423</td>\n",
       "      <td>AUS</td>\n",
       "      <td>2038.0</td>\n",
       "      <td>0</td>\n",
       "      <td>2000-2059</td>\n",
       "      <td>1504.0</td>\n",
       "      <td>United Airlines, Inc.</td>\n",
       "      <td>0.018515</td>\n",
       "      <td>0.008751</td>\n",
       "    </tr>\n",
       "    <tr>\n",
       "      <th>842600</th>\n",
       "      <td>15</td>\n",
       "      <td>3</td>\n",
       "      <td>WN</td>\n",
       "      <td>920</td>\n",
       "      <td>10821</td>\n",
       "      <td>BWI</td>\n",
       "      <td>11057</td>\n",
       "      <td>CLT</td>\n",
       "      <td>857.0</td>\n",
       "      <td>1</td>\n",
       "      <td>0800-0859</td>\n",
       "      <td>361.0</td>\n",
       "      <td>Southwest Airlines</td>\n",
       "      <td>0.013102</td>\n",
       "      <td>0.033104</td>\n",
       "    </tr>\n",
       "    <tr>\n",
       "      <th>14919</th>\n",
       "      <td>1</td>\n",
       "      <td>2</td>\n",
       "      <td>WN</td>\n",
       "      <td>1588</td>\n",
       "      <td>14869</td>\n",
       "      <td>SLC</td>\n",
       "      <td>14831</td>\n",
       "      <td>SJC</td>\n",
       "      <td>819.0</td>\n",
       "      <td>0</td>\n",
       "      <td>0800-0859</td>\n",
       "      <td>584.0</td>\n",
       "      <td>Southwest Airlines</td>\n",
       "      <td>0.016661</td>\n",
       "      <td>0.008435</td>\n",
       "    </tr>\n",
       "    <tr>\n",
       "      <th>681755</th>\n",
       "      <td>6</td>\n",
       "      <td>1</td>\n",
       "      <td>YX</td>\n",
       "      <td>5903</td>\n",
       "      <td>10721</td>\n",
       "      <td>BOS</td>\n",
       "      <td>12953</td>\n",
       "      <td>LGA</td>\n",
       "      <td>634.0</td>\n",
       "      <td>0</td>\n",
       "      <td>0600-0659</td>\n",
       "      <td>184.0</td>\n",
       "      <td>Republic Airlines</td>\n",
       "      <td>0.019576</td>\n",
       "      <td>0.023224</td>\n",
       "    </tr>\n",
       "    <tr>\n",
       "      <th>753433</th>\n",
       "      <td>10</td>\n",
       "      <td>5</td>\n",
       "      <td>DL</td>\n",
       "      <td>1480</td>\n",
       "      <td>13930</td>\n",
       "      <td>ORD</td>\n",
       "      <td>10397</td>\n",
       "      <td>ATL</td>\n",
       "      <td>706.0</td>\n",
       "      <td>0</td>\n",
       "      <td>0700-0759</td>\n",
       "      <td>606.0</td>\n",
       "      <td>Delta Air Lines, Inc.</td>\n",
       "      <td>0.041299</td>\n",
       "      <td>0.053888</td>\n",
       "    </tr>\n",
       "    <tr>\n",
       "      <th>230283</th>\n",
       "      <td>13</td>\n",
       "      <td>7</td>\n",
       "      <td>OH</td>\n",
       "      <td>5235</td>\n",
       "      <td>11617</td>\n",
       "      <td>EWN</td>\n",
       "      <td>11057</td>\n",
       "      <td>CLT</td>\n",
       "      <td>1735.0</td>\n",
       "      <td>0</td>\n",
       "      <td>1700-1759</td>\n",
       "      <td>221.0</td>\n",
       "      <td>Jetstream Intl</td>\n",
       "      <td>0.000320</td>\n",
       "      <td>0.033104</td>\n",
       "    </tr>\n",
       "    <tr>\n",
       "      <th>1116357</th>\n",
       "      <td>29</td>\n",
       "      <td>3</td>\n",
       "      <td>DL</td>\n",
       "      <td>1969</td>\n",
       "      <td>12892</td>\n",
       "      <td>LAX</td>\n",
       "      <td>13487</td>\n",
       "      <td>MSP</td>\n",
       "      <td>9.0</td>\n",
       "      <td>0</td>\n",
       "      <td>0001-0559</td>\n",
       "      <td>1535.0</td>\n",
       "      <td>Delta Air Lines, Inc.</td>\n",
       "      <td>0.030321</td>\n",
       "      <td>0.020743</td>\n",
       "    </tr>\n",
       "  </tbody>\n",
       "</table>\n",
       "</div>"
      ],
      "text/plain": [
       "         DAY_OF_MONTH  DAY_OF_WEEK OP_CARRIER  OP_CARRIER_FL_NUM  \\\n",
       "1044580            25            6         OO               5033   \n",
       "1127640            30            4         G4                602   \n",
       "435671             24            4         DL               2455   \n",
       "88888               5            6         UA               1837   \n",
       "842600             15            3         WN                920   \n",
       "14919               1            2         WN               1588   \n",
       "681755              6            1         YX               5903   \n",
       "753433             10            5         DL               1480   \n",
       "230283             13            7         OH               5235   \n",
       "1116357            29            3         DL               1969   \n",
       "\n",
       "         ORIGIN_AIRPORT_ID ORIGIN  DEST_AIRPORT_ID DEST  DEP_TIME  DEP_DEL15  \\\n",
       "1044580              11471    EAU            13930  ORD    1155.0          0   \n",
       "1127640              14314    PVU            10466  AZA    1613.0          0   \n",
       "435671               11884    GEG            13487  MSP    1405.0          0   \n",
       "88888                11618    EWR            10423  AUS    2038.0          0   \n",
       "842600               10821    BWI            11057  CLT     857.0          1   \n",
       "14919                14869    SLC            14831  SJC     819.0          0   \n",
       "681755               10721    BOS            12953  LGA     634.0          0   \n",
       "753433               13930    ORD            10397  ATL     706.0          0   \n",
       "230283               11617    EWN            11057  CLT    1735.0          0   \n",
       "1116357              12892    LAX            13487  MSP       9.0          0   \n",
       "\n",
       "        DEP_TIME_BLK  DISTANCE                CARRIER  origin_ap_enc  \\\n",
       "1044580    1200-1259     269.0       Skywest Airlines       0.000094   \n",
       "1127640    1600-1659     477.0      Allegiant Air LLC       0.000096   \n",
       "435671     1400-1459    1175.0  Delta Air Lines, Inc.       0.001732   \n",
       "88888      2000-2059    1504.0  United Airlines, Inc.       0.018515   \n",
       "842600     0800-0859     361.0     Southwest Airlines       0.013102   \n",
       "14919      0800-0859     584.0     Southwest Airlines       0.016661   \n",
       "681755     0600-0659     184.0      Republic Airlines       0.019576   \n",
       "753433     0700-0759     606.0  Delta Air Lines, Inc.       0.041299   \n",
       "230283     1700-1759     221.0         Jetstream Intl       0.000320   \n",
       "1116357    0001-0559    1535.0  Delta Air Lines, Inc.       0.030321   \n",
       "\n",
       "         dest_ap_enc  \n",
       "1044580     0.041208  \n",
       "1127640     0.000804  \n",
       "435671      0.020743  \n",
       "88888       0.008751  \n",
       "842600      0.033104  \n",
       "14919       0.008435  \n",
       "681755      0.023224  \n",
       "753433      0.053888  \n",
       "230283      0.033104  \n",
       "1116357     0.020743  "
      ]
     },
     "execution_count": 5,
     "metadata": {},
     "output_type": "execute_result"
    }
   ],
   "source": [
    "df.sample(10)"
   ]
  },
  {
   "attachments": {},
   "cell_type": "markdown",
   "metadata": {},
   "source": [
    "### Split the dataset"
   ]
  },
  {
   "cell_type": "code",
   "execution_count": 6,
   "metadata": {},
   "outputs": [],
   "source": [
    "# create a deep copy of the dataframe\n",
    "df_model = df.copy(deep=True)"
   ]
  },
  {
   "cell_type": "code",
   "execution_count": 7,
   "metadata": {},
   "outputs": [
    {
     "data": {
      "text/html": [
       "<div>\n",
       "<style scoped>\n",
       "    .dataframe tbody tr th:only-of-type {\n",
       "        vertical-align: middle;\n",
       "    }\n",
       "\n",
       "    .dataframe tbody tr th {\n",
       "        vertical-align: top;\n",
       "    }\n",
       "\n",
       "    .dataframe thead th {\n",
       "        text-align: right;\n",
       "    }\n",
       "</style>\n",
       "<table border=\"1\" class=\"dataframe\">\n",
       "  <thead>\n",
       "    <tr style=\"text-align: right;\">\n",
       "      <th></th>\n",
       "      <th>DAY_OF_MONTH</th>\n",
       "      <th>DAY_OF_WEEK</th>\n",
       "      <th>OP_CARRIER</th>\n",
       "      <th>OP_CARRIER_FL_NUM</th>\n",
       "      <th>ORIGIN_AIRPORT_ID</th>\n",
       "      <th>ORIGIN</th>\n",
       "      <th>DEST_AIRPORT_ID</th>\n",
       "      <th>DEST</th>\n",
       "      <th>DEP_TIME</th>\n",
       "      <th>DEP_DEL15</th>\n",
       "      <th>DEP_TIME_BLK</th>\n",
       "      <th>DISTANCE</th>\n",
       "      <th>CARRIER</th>\n",
       "      <th>origin_ap_enc</th>\n",
       "      <th>dest_ap_enc</th>\n",
       "    </tr>\n",
       "  </thead>\n",
       "  <tbody>\n",
       "    <tr>\n",
       "      <th>88453</th>\n",
       "      <td>5</td>\n",
       "      <td>6</td>\n",
       "      <td>UA</td>\n",
       "      <td>2394</td>\n",
       "      <td>10721</td>\n",
       "      <td>BOS</td>\n",
       "      <td>11618</td>\n",
       "      <td>EWR</td>\n",
       "      <td>1100.0</td>\n",
       "      <td>0</td>\n",
       "      <td>1100-1159</td>\n",
       "      <td>200.0</td>\n",
       "      <td>United Airlines, Inc.</td>\n",
       "      <td>0.019576</td>\n",
       "      <td>0.018516</td>\n",
       "    </tr>\n",
       "    <tr>\n",
       "      <th>81539</th>\n",
       "      <td>5</td>\n",
       "      <td>6</td>\n",
       "      <td>DL</td>\n",
       "      <td>2760</td>\n",
       "      <td>11433</td>\n",
       "      <td>DTW</td>\n",
       "      <td>10397</td>\n",
       "      <td>ATL</td>\n",
       "      <td>1539.0</td>\n",
       "      <td>0</td>\n",
       "      <td>1500-1559</td>\n",
       "      <td>594.0</td>\n",
       "      <td>Delta Air Lines, Inc.</td>\n",
       "      <td>0.021326</td>\n",
       "      <td>0.053888</td>\n",
       "    </tr>\n",
       "    <tr>\n",
       "      <th>775127</th>\n",
       "      <td>11</td>\n",
       "      <td>6</td>\n",
       "      <td>9E</td>\n",
       "      <td>5049</td>\n",
       "      <td>10397</td>\n",
       "      <td>ATL</td>\n",
       "      <td>15249</td>\n",
       "      <td>TLH</td>\n",
       "      <td>1243.0</td>\n",
       "      <td>0</td>\n",
       "      <td>1200-1259</td>\n",
       "      <td>223.0</td>\n",
       "      <td>Endeavor Air</td>\n",
       "      <td>0.053905</td>\n",
       "      <td>0.000914</td>\n",
       "    </tr>\n",
       "    <tr>\n",
       "      <th>460812</th>\n",
       "      <td>25</td>\n",
       "      <td>5</td>\n",
       "      <td>MQ</td>\n",
       "      <td>3944</td>\n",
       "      <td>14952</td>\n",
       "      <td>SPI</td>\n",
       "      <td>11298</td>\n",
       "      <td>DFW</td>\n",
       "      <td>548.0</td>\n",
       "      <td>0</td>\n",
       "      <td>0001-0559</td>\n",
       "      <td>630.0</td>\n",
       "      <td>Envoy Air</td>\n",
       "      <td>0.000211</td>\n",
       "      <td>0.039899</td>\n",
       "    </tr>\n",
       "    <tr>\n",
       "      <th>790315</th>\n",
       "      <td>12</td>\n",
       "      <td>7</td>\n",
       "      <td>NK</td>\n",
       "      <td>295</td>\n",
       "      <td>13930</td>\n",
       "      <td>ORD</td>\n",
       "      <td>12266</td>\n",
       "      <td>IAH</td>\n",
       "      <td>2033.0</td>\n",
       "      <td>0</td>\n",
       "      <td>2000-2059</td>\n",
       "      <td>925.0</td>\n",
       "      <td>Spirit Airlines, Inc.</td>\n",
       "      <td>0.041299</td>\n",
       "      <td>0.024950</td>\n",
       "    </tr>\n",
       "  </tbody>\n",
       "</table>\n",
       "</div>"
      ],
      "text/plain": [
       "        DAY_OF_MONTH  DAY_OF_WEEK OP_CARRIER  OP_CARRIER_FL_NUM  \\\n",
       "88453              5            6         UA               2394   \n",
       "81539              5            6         DL               2760   \n",
       "775127            11            6         9E               5049   \n",
       "460812            25            5         MQ               3944   \n",
       "790315            12            7         NK                295   \n",
       "\n",
       "        ORIGIN_AIRPORT_ID ORIGIN  DEST_AIRPORT_ID DEST  DEP_TIME  DEP_DEL15  \\\n",
       "88453               10721    BOS            11618  EWR    1100.0          0   \n",
       "81539               11433    DTW            10397  ATL    1539.0          0   \n",
       "775127              10397    ATL            15249  TLH    1243.0          0   \n",
       "460812              14952    SPI            11298  DFW     548.0          0   \n",
       "790315              13930    ORD            12266  IAH    2033.0          0   \n",
       "\n",
       "       DEP_TIME_BLK  DISTANCE                CARRIER  origin_ap_enc  \\\n",
       "88453     1100-1159     200.0  United Airlines, Inc.       0.019576   \n",
       "81539     1500-1559     594.0  Delta Air Lines, Inc.       0.021326   \n",
       "775127    1200-1259     223.0           Endeavor Air       0.053905   \n",
       "460812    0001-0559     630.0              Envoy Air       0.000211   \n",
       "790315    2000-2059     925.0  Spirit Airlines, Inc.       0.041299   \n",
       "\n",
       "        dest_ap_enc  \n",
       "88453      0.018516  \n",
       "81539      0.053888  \n",
       "775127     0.000914  \n",
       "460812     0.039899  \n",
       "790315     0.024950  "
      ]
     },
     "execution_count": 7,
     "metadata": {},
     "output_type": "execute_result"
    }
   ],
   "source": [
    "df_model.sample(5)"
   ]
  },
  {
   "cell_type": "code",
   "execution_count": 38,
   "metadata": {},
   "outputs": [],
   "source": [
    "# select columns for the model\n",
    "columns = ['ORIGIN_AIRPORT_ID', 'ORIGIN', 'DEST', 'CARRIER', 'DEP_DEL15', 'OP_CARRIER_FL_NUM', 'DEST_AIRPORT_ID'] \n",
    "# columns2 = ['ORIGIN_AIRPORT_ID', 'CARRIER', 'DEP_DEL15', 'OP_CARRIER_FL_NUM', 'DEST_AIRPORT_ID'] \n",
    "X = df_model.drop(columns, axis=1)\n",
    "y = df_model['DEP_DEL15']\n",
    "\n",
    "# split the data into training and testing sets\n",
    "X_train, X_test, y_train, y_test = train_test_split(X, y, test_size=.2, random_state=42)"
   ]
  },
  {
   "attachments": {},
   "cell_type": "markdown",
   "metadata": {},
   "source": [
    "### Scale Numeric values / Encoding obj Columns"
   ]
  },
  {
   "cell_type": "code",
   "execution_count": 39,
   "metadata": {},
   "outputs": [],
   "source": [
    "\n",
    "numeric_features = X.select_dtypes(include=['int64', 'float64', 'float32', 'int32']).columns\n",
    "categorical_features = X.select_dtypes(include=['object']).columns\n",
    "\n",
    "# create transformers for numeric and categorical features\n",
    "numeric_transformer = StandardScaler()\n",
    "categorical_transformer = OneHotEncoder(handle_unknown='ignore')\n",
    "\n",
    "# create a preprocessor\n",
    "preprocessor = ColumnTransformer(\n",
    "    transformers=[\n",
    "        ('num', numeric_transformer, numeric_features),\n",
    "        ('cat', categorical_transformer, categorical_features)])\n"
   ]
  },
  {
   "attachments": {},
   "cell_type": "markdown",
   "metadata": {},
   "source": [
    "Function to evaluate the models performance"
   ]
  },
  {
   "cell_type": "code",
   "execution_count": 41,
   "metadata": {},
   "outputs": [],
   "source": [
    "def model_performance(model, y_test, X_test):\n",
    "    target_names = ['class 0: No delay', 'class 1: Delayed']\n",
    "    print(classification_report(y_test, model.predict(X_test), target_names=target_names))\n",
    "\n",
    "    # roc auc score\n",
    "    roc_auc_score_dc = roc_auc_score(y_test, model.predict(X_test))\n",
    "    print('roc auc score: {:.2f}'.format(roc_auc_score_dc))\n",
    "\n",
    "    # confusion matrix\n",
    "    conf_matrix =  confusion_matrix(y_test, model.predict(X_test), normalize = 'true')\n",
    "    plt.figure()\n",
    "    plt.title('Test Confusion Matrix')\n",
    "    sns.heatmap(conf_matrix, annot = True)\n"
   ]
  },
  {
   "attachments": {},
   "cell_type": "markdown",
   "metadata": {},
   "source": [
    "### Logistic Regression model and use of pipelines"
   ]
  },
  {
   "cell_type": "code",
   "execution_count": 40,
   "metadata": {},
   "outputs": [
    {
     "name": "stdout",
     "output_type": "stream",
     "text": [
      "Train set accuracy: 88.47%\n",
      "Test set Accuracy: 88.50%\n"
     ]
    }
   ],
   "source": [
    "# define the model\n",
    "lr_model = LogisticRegression(solver='liblinear', random_state=2)\n",
    "\n",
    "# create a pipeline that does the preprocessing and then fits the model\n",
    "clf = Pipeline(steps=[('preprocessor', preprocessor),\n",
    "                      ('classifier', lr_model)])\n",
    "\n",
    "# fit the model\n",
    "clf.fit(X_train, y_train)\n",
    "\n",
    "# evaluate the model\n",
    "train_accuracy = clf.score(X_train, y_train)\n",
    "test_accuracy = clf.score(X_test, y_test)\n",
    "\n",
    "print(f'Train set accuracy: {train_accuracy*100:.2f}%')\n",
    "print(f'Test set Accuracy: {test_accuracy*100:.2f}%')"
   ]
  },
  {
   "cell_type": "code",
   "execution_count": 42,
   "metadata": {},
   "outputs": [
    {
     "name": "stdout",
     "output_type": "stream",
     "text": [
      "                   precision    recall  f1-score   support\n",
      "\n",
      "class 0: No delay       0.88      1.00      0.94    197572\n",
      " class 1: Delayed       1.00      0.25      0.41     35964\n",
      "\n",
      "         accuracy                           0.89    233536\n",
      "        macro avg       0.94      0.63      0.67    233536\n",
      "     weighted avg       0.90      0.89      0.85    233536\n",
      "\n",
      "roc auc score: 0.63\n"
     ]
    },
    {
     "data": {
      "image/png": "[encoded data removed]",
      "text/plain": [
       "<Figure size 640x480 with 2 Axes>"
      ]
     },
     "metadata": {},
     "output_type": "display_data"
    }
   ],
   "source": [
    "#logistic regression performance\n",
    "model_performance(clf, y_test, X_test)"
   ]
  },
  {
   "cell_type": "code",
   "execution_count": 43,
   "metadata": {},
   "outputs": [],
   "source": [
    "# function to quickly evaluate effect of different hyperparameters\n",
    "# computing time is to be expected\n",
    "def test_params_lr(**params):\n",
    "    model = LogisticRegression(random_state=42, **params)\n",
    "\n",
    "    # create a pipeline that does the preprocessing and then fits the model\n",
    "    clf = Pipeline(steps=[('preprocessor', preprocessor),\n",
    "                      ('classifier', model)])\n",
    "\n",
    "    # fit the model\n",
    "    clf.fit(X_train, y_train)\n",
    "\n",
    "    print('Actual iterations:', clf.named_steps['classifier'].n_iter_)\n",
    "\n",
    "    train_preds = clf.predict(X_train)\n",
    "    val_preds = clf.predict(X_test)\n",
    "\n",
    "    train_accuracy = accuracy_score(y_train, train_preds)\n",
    "    val_accuracy = accuracy_score(y_test, val_preds)\n",
    "    \n",
    "    # train_accuracy = model.score(X_train, y_train)\n",
    "    # val_accuracy = model.score(X_test, y_test)\n",
    "\n",
    "    roc_auc_score_lr = roc_auc_score(y_test, clf.predict(X_test))\n",
    "    print('Train set accuracy: {:.2f}%'.format(train_accuracy*100))\n",
    "    print('Validation set Accuracy: {:.2f}%'.format(val_accuracy* 100))\n",
    "    print('roc auc score: {:.2f}'.format(roc_auc_score_lr)) \n",
    "\n",
    "# for i in range(1, 20, 2):\n",
    "#     print('max_iter = ', i)\n",
    "#     test_params_lr(max_iter=i, solver='liblinear')"
   ]
  },
  {
   "attachments": {},
   "cell_type": "markdown",
   "metadata": {},
   "source": [
    "### Decision Tree Classifier"
   ]
  },
  {
   "cell_type": "code",
   "execution_count": 19,
   "metadata": {},
   "outputs": [
    {
     "data": {
      "text/plain": [
       "Pipeline(steps=[('preprocessor',\n",
       "                 ColumnTransformer(transformers=[('num', StandardScaler(),\n",
       "                                                  Index(['DAY_OF_MONTH', 'DAY_OF_WEEK', 'DEP_TIME', 'DISTANCE', 'origin_ap_enc',\n",
       "       'dest_ap_enc'],\n",
       "      dtype='object')),\n",
       "                                                 ('cat',\n",
       "                                                  OneHotEncoder(handle_unknown='ignore'),\n",
       "                                                  Index(['OP_CARRIER', 'DEP_TIME_BLK'], dtype='object'))])),\n",
       "                ('classifier', DecisionTreeClassifier(random_state=42))])"
      ]
     },
     "execution_count": 19,
     "metadata": {},
     "output_type": "execute_result"
    }
   ],
   "source": [
    "# decision tree\n",
    "dt_model = DecisionTreeClassifier(random_state=42)\n",
    "# create a pipeline that does the preprocessing and then fits the model\n",
    "dc_pipe = Pipeline(steps=[('preprocessor', preprocessor),\n",
    "                      ('classifier', dt_model)])\n",
    "# fit the model\n",
    "dc_pipe.fit(X_train, y_train)"
   ]
  },
  {
   "cell_type": "code",
   "execution_count": 25,
   "metadata": {},
   "outputs": [
    {
     "name": "stdout",
     "output_type": "stream",
     "text": [
      "              precision    recall  f1-score   support\n",
      "\n",
      "           0       0.96      0.96      0.96    197572\n",
      "           1       0.77      0.76      0.77     35964\n",
      "\n",
      "    accuracy                           0.93    233536\n",
      "   macro avg       0.87      0.86      0.86    233536\n",
      "weighted avg       0.93      0.93      0.93    233536\n",
      "\n",
      "roc auc score: 0.86\n"
     ]
    },
    {
     "data": {
      "image/png": "[encoded data removed]",
      "text/plain": [
       "<Figure size 640x480 with 2 Axes>"
      ]
     },
     "metadata": {},
     "output_type": "display_data"
    }
   ],
   "source": [
    "model_performance(dc_pipe, y_test, X_test)"
   ]
  },
  {
   "attachments": {},
   "cell_type": "markdown",
   "metadata": {},
   "source": [
    "#### Hyperparameter tuning for Decision Tree Classifier"
   ]
  },
  {
   "cell_type": "code",
   "execution_count": 27,
   "metadata": {},
   "outputs": [],
   "source": [
    "# Hyperparameter tuning function\n",
    "# its too slow to run on my computer\n",
    "def decision_tree_grid_search(X_train, y_train):\n",
    "    \n",
    "    # Set the parameters you want to grid search over\n",
    "    params = {\n",
    "        'classifier__max_depth': [5,10,15,20,25,30],\n",
    "        'classifier__max_leaf_nodes': [5,10,15,20,25,30],\n",
    "        'classifier__min_samples_leaf': [1,5,10,15,20,25]\n",
    "    }\n",
    "\n",
    "    # Initialize the decision tree model\n",
    "    dtc = DecisionTreeClassifier()\n",
    "\n",
    "    # Create a pipeline that does the preprocessing and then fits the model\n",
    "    clf = Pipeline(steps=[('preprocessor', preprocessor),\n",
    "                          ('classifier', dtc)])\n",
    "\n",
    "    # Initialize Grid Search and fit the model\n",
    "    grid_search = GridSearchCV(clf, params, cv=5, scoring='accuracy')\n",
    "    grid_search.fit(X_train, y_train)\n",
    "\n",
    "    # Get the best parameters\n",
    "    print(\"Best parameters found: \", grid_search.best_params_)\n",
    "\n",
    "    return grid_search\n",
    "\n",
    "# decision_tree_grid_search(X_train, y_train)\n"
   ]
  },
  {
   "cell_type": "code",
   "execution_count": 55,
   "metadata": {},
   "outputs": [
    {
     "name": "stdout",
     "output_type": "stream",
     "text": [
      "Best parameters:  {'classifier__max_depth': 9}\n"
     ]
    }
   ],
   "source": [
    "param_grid = {\n",
    "    'classifier__max_depth': range(1, 10)  # Note the format: 'step__parameter'\n",
    "}\n",
    "\n",
    "grid = GridSearchCV(dc_pipe, param_grid, cv=5, scoring='accuracy')\n",
    "grid.fit(X_train, y_train)\n",
    "print(\"Best parameters: \", grid.best_params_)\n"
   ]
  },
  {
   "cell_type": "code",
   "execution_count": 56,
   "metadata": {},
   "outputs": [
    {
     "data": {
      "text/plain": [
       "Pipeline(steps=[('preprocessor',\n",
       "                 ColumnTransformer(transformers=[('num', StandardScaler(),\n",
       "                                                  Index(['DAY_OF_MONTH', 'DAY_OF_WEEK', 'DEP_TIME', 'DISTANCE', 'origin_ap_enc',\n",
       "       'dest_ap_enc'],\n",
       "      dtype='object')),\n",
       "                                                 ('cat',\n",
       "                                                  OneHotEncoder(handle_unknown='ignore'),\n",
       "                                                  Index(['OP_CARRIER', 'DEP_TIME_BLK'], dtype='object'))])),\n",
       "                ('classifier',\n",
       "                 DecisionTreeClassifier(max_depth=9, random_state=42))])"
      ]
     },
     "execution_count": 56,
     "metadata": {},
     "output_type": "execute_result"
    }
   ],
   "source": [
    "best_params = grid.best_params_\n",
    "\n",
    "best_max_depth = best_params['classifier__max_depth']\n",
    "best_model = DecisionTreeClassifier(max_depth=best_max_depth, random_state=42)\n",
    "\n",
    "best_pipe = Pipeline(steps=[('preprocessor', preprocessor),('classifier', best_model)])\n",
    "best_pipe.fit(X_train, y_train)\n"
   ]
  },
  {
   "cell_type": "code",
   "execution_count": 57,
   "metadata": {},
   "outputs": [
    {
     "name": "stdout",
     "output_type": "stream",
     "text": [
      "                   precision    recall  f1-score   support\n",
      "\n",
      "class 0: No delay       0.90      0.99      0.94    197572\n",
      " class 1: Delayed       0.86      0.39      0.54     35964\n",
      "\n",
      "         accuracy                           0.90    233536\n",
      "        macro avg       0.88      0.69      0.74    233536\n",
      "     weighted avg       0.89      0.90      0.88    233536\n",
      "\n",
      "roc auc score: 0.69\n"
     ]
    },
    {
     "data": {
      "image/png": "[encoded data removed]",
      "text/plain": [
       "<Figure size 640x480 with 2 Axes>"
      ]
     },
     "metadata": {},
     "output_type": "display_data"
    }
   ],
   "source": [
    "model_performance(best_pipe, y_test, X_test)"
   ]
  },
  {
   "attachments": {},
   "cell_type": "markdown",
   "metadata": {},
   "source": [
    "### Random Forest Classifier\n",
    "* warning: this model takes some time to train."
   ]
  },
  {
   "cell_type": "code",
   "execution_count": 58,
   "metadata": {},
   "outputs": [
    {
     "name": "stdout",
     "output_type": "stream",
     "text": [
      "Train set accuracy: 100.00%\n",
      "Test set Accuracy: 94.03%\n"
     ]
    }
   ],
   "source": [
    "# # define the model\n",
    "# # TAKES A LOT OF TIME TO RUN\n",
    "\n",
    "# rf_model = RandomForestClassifier(random_state=42)\n",
    "\n",
    "# # create a pipeline that does the preprocessing and then fits the model\n",
    "# rf_pipe = Pipeline(steps=[('preprocessor', preprocessor),\n",
    "#                       ('classifier', rf_model)])\n",
    "\n",
    "# # # fit the model\n",
    "# # rf_pipe.fit(X_train, y_train)\n",
    "\n",
    "# # # evaluate the model\n",
    "# # train_accuracy = rf_pipe.score(X_train, y_train)\n",
    "# # test_accuracy = rf_pipe.score(X_test, y_test)\n",
    "\n",
    "# # print(f'Train set accuracy: {train_accuracy*100:.2f}%')\n",
    "# # print(f'Test set Accuracy: {test_accuracy*100:.2f}%')"
   ]
  },
  {
   "cell_type": "code",
   "execution_count": 59,
   "metadata": {},
   "outputs": [
    {
     "name": "stdout",
     "output_type": "stream",
     "text": [
      "                   precision    recall  f1-score   support\n",
      "\n",
      "class 0: No delay       0.94      0.99      0.97    197572\n",
      " class 1: Delayed       0.94      0.65      0.77     35964\n",
      "\n",
      "         accuracy                           0.94    233536\n",
      "        macro avg       0.94      0.82      0.87    233536\n",
      "     weighted avg       0.94      0.94      0.94    233536\n",
      "\n",
      "roc auc score: 0.82\n"
     ]
    },
    {
     "data": {
      "image/png": "[encoded data removed]",
      "text/plain": [
       "<Figure size 640x480 with 2 Axes>"
      ]
     },
     "metadata": {},
     "output_type": "display_data"
    }
   ],
   "source": [
    "model_performance(rf_pipe, y_test, X_test)"
   ]
  },
  {
   "cell_type": "code",
   "execution_count": 62,
   "metadata": {},
   "outputs": [
    {
     "data": {
      "text/plain": [
       "['../models/random_forest.joblib']"
      ]
     },
     "execution_count": 62,
     "metadata": {},
     "output_type": "execute_result"
    }
   ],
   "source": [
    "# save the model\n",
    "# joblib.dump(rf_pipe, '../models/random_forest.joblib')"
   ]
  },
  {
   "cell_type": "code",
   "execution_count": 65,
   "metadata": {},
   "outputs": [],
   "source": [
    "# load_model = joblib.load('../models/random_forest.joblib')"
   ]
  },
  {
   "cell_type": "code",
   "execution_count": 64,
   "metadata": {},
   "outputs": [
    {
     "data": {
      "text/plain": [
       "0.9402704508084406"
      ]
     },
     "execution_count": 64,
     "metadata": {},
     "output_type": "execute_result"
    }
   ],
   "source": [
    "# load_model.score(X_test, y_test)"
   ]
  },
  {
   "attachments": {},
   "cell_type": "markdown",
   "metadata": {},
   "source": [
    "###  XGBClassifier"
   ]
  },
  {
   "cell_type": "code",
   "execution_count": 66,
   "metadata": {},
   "outputs": [],
   "source": [
    "\n",
    "def fit_model(X_train, y_train, preprocessor, **model_params):\n",
    "    # define the model\n",
    "    xgb_model = XGBClassifier(**model_params)\n",
    "\n",
    "    # create a pipeline that does the preprocessing and then fits the model\n",
    "    clf = Pipeline(steps=[('preprocessor', preprocessor),\n",
    "                          ('classifier', xgb_model)])\n",
    "\n",
    "    # fit the model\n",
    "    clf.fit(X_train, y_train)\n",
    "    \n",
    "    return clf\n",
    "\n",
    "xgb_model = fit_model(X_train, y_train, preprocessor, random_state=42)"
   ]
  },
  {
   "cell_type": "code",
   "execution_count": 72,
   "metadata": {},
   "outputs": [],
   "source": [
    "def evaluate_model(clf, X_train, y_train, X_test, y_test):\n",
    "    # evaluate the model\n",
    "    train_accuracy = clf.score(X_train, y_train)\n",
    "    test_accuracy = clf.score(X_test, y_test)\n",
    "\n",
    "    print(f'Train set accuracy: {train_accuracy*100:.2f}%')\n",
    "    print(f'Test set Accuracy: {test_accuracy*100:.2f}%')\n",
    "    \n",
    "    return train_accuracy, test_accuracy"
   ]
  },
  {
   "cell_type": "code",
   "execution_count": 73,
   "metadata": {},
   "outputs": [
    {
     "name": "stdout",
     "output_type": "stream",
     "text": [
      "Train set accuracy: 93.79%\n",
      "Test set Accuracy: 93.79%\n"
     ]
    },
    {
     "data": {
      "text/plain": [
       "(0.9378894620833471, 0.9378682515757741)"
      ]
     },
     "execution_count": 73,
     "metadata": {},
     "output_type": "execute_result"
    }
   ],
   "source": [
    "evaluate_model(xgb_model, X_train, y_train, X_test, y_test)"
   ]
  },
  {
   "cell_type": "code",
   "execution_count": 68,
   "metadata": {},
   "outputs": [
    {
     "name": "stdout",
     "output_type": "stream",
     "text": [
      "                   precision    recall  f1-score   support\n",
      "\n",
      "class 0: No delay       0.94      0.99      0.96    197572\n",
      " class 1: Delayed       0.93      0.65      0.76     35964\n",
      "\n",
      "         accuracy                           0.94    233536\n",
      "        macro avg       0.93      0.82      0.86    233536\n",
      "     weighted avg       0.94      0.94      0.93    233536\n",
      "\n",
      "roc auc score: 0.82\n"
     ]
    },
    {
     "data": {
      "image/png": "[encoded data removed]",
      "text/plain": [
       "<Figure size 640x480 with 2 Axes>"
      ]
     },
     "metadata": {},
     "output_type": "display_data"
    }
   ],
   "source": [
    "model_performance(xgb_model, y_test, X_test)"
   ]
  },
  {
   "cell_type": "code",
   "execution_count": 79,
   "metadata": {},
   "outputs": [
    {
     "name": "stdout",
     "output_type": "stream",
     "text": [
      "Train set accuracy: 88.47%\n",
      "Test set Accuracy: 88.50%\n",
      "Train set accuracy: 100.00%\n",
      "Test set Accuracy: 92.94%\n",
      "Train set accuracy: 100.00%\n",
      "Test set Accuracy: 94.03%\n",
      "Train set accuracy: 93.79%\n",
      "Test set Accuracy: 93.79%\n"
     ]
    },
    {
     "data": {
      "text/html": [
       "<div>\n",
       "<style scoped>\n",
       "    .dataframe tbody tr th:only-of-type {\n",
       "        vertical-align: middle;\n",
       "    }\n",
       "\n",
       "    .dataframe tbody tr th {\n",
       "        vertical-align: top;\n",
       "    }\n",
       "\n",
       "    .dataframe thead th {\n",
       "        text-align: right;\n",
       "    }\n",
       "</style>\n",
       "<table border=\"1\" class=\"dataframe\">\n",
       "  <thead>\n",
       "    <tr style=\"text-align: right;\">\n",
       "      <th></th>\n",
       "      <th>Model</th>\n",
       "      <th>Accuracy</th>\n",
       "      <th>roc_auc_score</th>\n",
       "    </tr>\n",
       "  </thead>\n",
       "  <tbody>\n",
       "    <tr>\n",
       "      <th>0</th>\n",
       "      <td>Logistic Regression</td>\n",
       "      <td>88.50</td>\n",
       "      <td>0.627</td>\n",
       "    </tr>\n",
       "    <tr>\n",
       "      <th>1</th>\n",
       "      <td>Decision Tree Classifier</td>\n",
       "      <td>92.94</td>\n",
       "      <td>0.861</td>\n",
       "    </tr>\n",
       "    <tr>\n",
       "      <th>2</th>\n",
       "      <td>Random Forest Classifier</td>\n",
       "      <td>94.03</td>\n",
       "      <td>0.823</td>\n",
       "    </tr>\n",
       "    <tr>\n",
       "      <th>3</th>\n",
       "      <td>XGBoost Classifier</td>\n",
       "      <td>93.79</td>\n",
       "      <td>0.819</td>\n",
       "    </tr>\n",
       "  </tbody>\n",
       "</table>\n",
       "</div>"
      ],
      "text/plain": [
       "                      Model  Accuracy  roc_auc_score\n",
       "0       Logistic Regression     88.50          0.627\n",
       "1  Decision Tree Classifier     92.94          0.861\n",
       "2  Random Forest Classifier     94.03          0.823\n",
       "3        XGBoost Classifier     93.79          0.819"
      ]
     },
     "execution_count": 79,
     "metadata": {},
     "output_type": "execute_result"
    }
   ],
   "source": [
    "models =[clf, dc_pipe, rf_pipe, xgb_model]\n",
    "accuracy_scores = []\n",
    "roc_auc_scores = []\n",
    "\n",
    "\n",
    "for model in models:\n",
    "    train, test = evaluate_model(model, X_train, y_train, X_test, y_test)\n",
    "    roc_auc_score_dc = roc_auc_score(y_test, model.predict(X_test))\n",
    "    accuracy_scores.append(round(test * 100, 2))\n",
    "    roc_auc_scores.append(round(roc_auc_score_dc, 3))\n",
    "\n",
    "test_results_df = pd.DataFrame({\n",
    "    'Model' : ['Logistic Regression', 'Decision Tree Classifier', 'Random Forest Classifier', 'XGBoost Classifier'],\n",
    "    'Accuracy': accuracy_scores,\n",
    "    'roc_auc_score': roc_auc_scores\n",
    "})\n",
    "\n",
    "test_results_df"
   ]
  }
 ],
 "metadata": {
  "kernelspec": {
   "display_name": "base",
   "language": "python",
   "name": "python3"
  },
  "language_info": {
   "codemirror_mode": {
    "name": "ipython",
    "version": 3
   },
   "file_extension": ".py",
   "mimetype": "text/x-python",
   "name": "python",
   "nbconvert_exporter": "python",
   "pygments_lexer": "ipython3",
   "version": "3.9.7"
  },
  "orig_nbformat": 4
 },
 "nbformat": 4,
 "nbformat_minor": 2
}
